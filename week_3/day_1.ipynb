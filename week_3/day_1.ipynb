{
  "nbformat": 4,
  "nbformat_minor": 0,
  "metadata": {
    "colab": {
      "name": "day_1.ipynb",
      "provenance": [],
      "collapsed_sections": []
    },
    "kernelspec": {
      "name": "python3",
      "display_name": "Python 3"
    },
    "language_info": {
      "name": "python"
    }
  },
  "cells": [
    {
      "cell_type": "markdown",
      "source": [
        "# Week 3 ML \n",
        "## Day:1 Aug 22 2022 "
      ],
      "metadata": {
        "id": "ftaPknHOATVU"
      }
    },
    {
      "cell_type": "markdown",
      "source": [
        "Computing gradients with numpy"
      ],
      "metadata": {
        "id": "67rsfYM4An9Q"
      }
    },
    {
      "cell_type": "code",
      "source": [
        "!pip install numdifftools"
      ],
      "metadata": {
        "id": "Jj2ExsqvHT6v"
      },
      "execution_count": null,
      "outputs": []
    },
    {
      "cell_type": "code",
      "execution_count": 16,
      "metadata": {
        "colab": {
          "base_uri": "https://localhost:8080/"
        },
        "id": "xsWaFt33HBbW",
        "outputId": "46af1d6b-97d6-40c2-deca-dffd2e85d4a3"
      },
      "outputs": [
        {
          "output_type": "stream",
          "name": "stdout",
          "text": [
            "5.9999999999999964\n"
          ]
        }
      ],
      "source": [
        "import numdifftools as nd\n",
        "\n",
        "def f1(x):\n",
        "    return x**2 + 2*x + 1\n",
        "grad = nd.Gradient(f1)([2])\n",
        "print(grad)"
      ]
    },
    {
      "cell_type": "code",
      "source": [
        "import numdifftools as nd\n",
        "\n",
        "def f1(x,y,z):\n",
        "    return (x + y) * z \n",
        "grad = nd.Gradient(f1)([-2],[5],[-4])\n",
        "print(grad)"
      ],
      "metadata": {
        "colab": {
          "base_uri": "https://localhost:8080/"
        },
        "id": "mXqLmf_3PDSf",
        "outputId": "ad56a78b-b9f6-41d6-d7b4-2d675f18826f"
      },
      "execution_count": 4,
      "outputs": [
        {
          "output_type": "stream",
          "name": "stdout",
          "text": [
            "-3.9999999999999503\n"
          ]
        }
      ]
    },
    {
      "cell_type": "markdown",
      "source": [
        "torch basics"
      ],
      "metadata": {
        "id": "oSolmKBT--4h"
      }
    },
    {
      "cell_type": "code",
      "source": [
        "import torch\n",
        "import math"
      ],
      "metadata": {
        "id": "iX6Wwi_d9e0o"
      },
      "execution_count": 18,
      "outputs": []
    },
    {
      "cell_type": "code",
      "source": [
        "x = torch.empty(3, 4)\n",
        "print(type(x))\n",
        "print(x)"
      ],
      "metadata": {
        "colab": {
          "base_uri": "https://localhost:8080/"
        },
        "id": "ZncajQTX9lls",
        "outputId": "05a6f045-874c-4241-93e9-a65b44073945"
      },
      "execution_count": 17,
      "outputs": [
        {
          "output_type": "stream",
          "name": "stdout",
          "text": [
            "<class 'torch.Tensor'>\n",
            "tensor([[1.6383e-35, 0.0000e+00, 3.3631e-44, 0.0000e+00],\n",
            "        [       nan, 0.0000e+00, 1.1578e+27, 1.1362e+30],\n",
            "        [7.1547e+22, 4.5828e+30, 1.2121e+04, 7.1846e+22]])\n"
          ]
        }
      ]
    },
    {
      "cell_type": "code",
      "source": [
        "zeros = torch.zeros(2, 3)\n",
        "print(zeros)\n",
        "\n",
        "ones = torch.ones(2, 3)\n",
        "print(ones)\n",
        "\n",
        "torch.manual_seed(1729)\n",
        "random = torch.rand(2, 3)\n",
        "print(random)\n",
        "\n",
        "torch.manual_seed(1729)\n",
        "random1 = torch.rand(2, 3)\n",
        "print(random1)"
      ],
      "metadata": {
        "colab": {
          "base_uri": "https://localhost:8080/"
        },
        "id": "cjLyTLRo-C2p",
        "outputId": "2f569112-9167-4a7d-ab63-38534a485808"
      },
      "execution_count": 19,
      "outputs": [
        {
          "output_type": "stream",
          "name": "stdout",
          "text": [
            "tensor([[0., 0., 0.],\n",
            "        [0., 0., 0.]])\n",
            "tensor([[1., 1., 1.],\n",
            "        [1., 1., 1.]])\n",
            "tensor([[0.3126, 0.3791, 0.3087],\n",
            "        [0.0736, 0.4216, 0.0691]])\n",
            "tensor([[0.3126, 0.3791, 0.3087],\n",
            "        [0.0736, 0.4216, 0.0691]])\n"
          ]
        }
      ]
    },
    {
      "cell_type": "code",
      "source": [
        "x = torch.empty(2, 2, 3)\n",
        "print(x.shape)\n",
        "print(x)\n",
        "\n",
        "empty_like_x = torch.empty_like(x)\n",
        "print(empty_like_x.shape)\n",
        "print(empty_like_x)\n",
        "\n",
        "zeros_like_x = torch.zeros_like(x)\n",
        "print(zeros_like_x.shape)\n",
        "print(zeros_like_x)\n",
        "\n",
        "ones_like_x = torch.ones_like(x)\n",
        "print(ones_like_x.shape)\n",
        "print(ones_like_x)\n",
        "\n",
        "rand_like_x = torch.rand_like(x)\n",
        "print(rand_like_x.shape)\n",
        "print(rand_like_x)"
      ],
      "metadata": {
        "colab": {
          "base_uri": "https://localhost:8080/"
        },
        "id": "5xe8Fstb-6ST",
        "outputId": "2de1efe2-5ced-430a-b0f4-dc9165571de5"
      },
      "execution_count": 20,
      "outputs": [
        {
          "output_type": "stream",
          "name": "stdout",
          "text": [
            "torch.Size([2, 2, 3])\n",
            "tensor([[[1.6384e-35, 0.0000e+00, 3.0867e-01],\n",
            "         [7.3580e-02, 4.2160e-01, 6.9054e-02]],\n",
            "\n",
            "        [[1.5002e-35, 0.0000e+00, 1.5011e-35],\n",
            "         [0.0000e+00, 1.5004e-35, 0.0000e+00]]])\n",
            "torch.Size([2, 2, 3])\n",
            "tensor([[[1.6384e-35, 0.0000e+00, 3.3631e-44],\n",
            "         [0.0000e+00,        nan, 6.9054e-02]],\n",
            "\n",
            "        [[1.1578e+27, 1.1362e+30, 7.1547e+22],\n",
            "         [4.5828e+30, 1.2121e+04, 7.1846e+22]]])\n",
            "torch.Size([2, 2, 3])\n",
            "tensor([[[0., 0., 0.],\n",
            "         [0., 0., 0.]],\n",
            "\n",
            "        [[0., 0., 0.],\n",
            "         [0., 0., 0.]]])\n",
            "torch.Size([2, 2, 3])\n",
            "tensor([[[1., 1., 1.],\n",
            "         [1., 1., 1.]],\n",
            "\n",
            "        [[1., 1., 1.],\n",
            "         [1., 1., 1.]]])\n",
            "torch.Size([2, 2, 3])\n",
            "tensor([[[0.2332, 0.4047, 0.2162],\n",
            "         [0.9927, 0.4128, 0.5938]],\n",
            "\n",
            "        [[0.6128, 0.1519, 0.0453],\n",
            "         [0.5035, 0.9978, 0.3884]]])\n"
          ]
        }
      ]
    },
    {
      "cell_type": "code",
      "source": [
        "integer_tensor = torch.tensor(((2, 4, 6), [3, 6, 9]))\n",
        "print(integer_tensor)"
      ],
      "metadata": {
        "colab": {
          "base_uri": "https://localhost:8080/"
        },
        "id": "6Kh9XEGd_WYr",
        "outputId": "172a2c2b-1b4d-4df9-ef7e-25d7e8dcf9c9"
      },
      "execution_count": 21,
      "outputs": [
        {
          "output_type": "stream",
          "name": "stdout",
          "text": [
            "tensor([[2, 4, 6],\n",
            "        [3, 6, 9]])\n"
          ]
        }
      ]
    },
    {
      "cell_type": "markdown",
      "source": [
        "Auto grad"
      ],
      "metadata": {
        "id": "1JGanL0zA9TD"
      }
    },
    {
      "cell_type": "markdown",
      "source": [
        "backward : Computes the sum of gradients of given tensors with respect to graph leaves.\n",
        "\n",
        "grad : Computes and returns the sum of gradients of outputs with respect to the inputs.\n",
        "\n",
        "\n",
        "Tensor autograd functions\n",
        "\n",
        "torch.Tensor.grad: This attribute is None by default and becomes a Tensor the first time a call to backward() computes gradients for self.\n",
        "\n",
        "torch.Tensor.requires_grad: Is True if gradients need to be computed for this Tensor, False otherwise.\n",
        "\n",
        "torch.Tensor.is_leaf: All Tensors that have requires_grad which is False will be leaf Tensors by convention.\n",
        "\n",
        "torch.Tensor.backward([gradient, …]) : Computes the gradient of current tensor w.r.t.\n",
        "\n",
        "torch.Tensor.detach: Returns a new Tensor, detached from the current graph.\n",
        "\n",
        "torch.Tensor.detach_: Detaches the Tensor from the graph that created it, making it a leaf.\n",
        "\n",
        "torch.Tensor.register_hook(hook): Registers a backward hook.\n",
        "\n",
        "torch.Tensor.retain_grad(): Enables this Tensor to have their grad populated during backward().\n",
        "\n"
      ],
      "metadata": {
        "id": "m3mcjV2HCucb"
      }
    },
    {
      "cell_type": "markdown",
      "source": [
        "For scalar values "
      ],
      "metadata": {
        "id": "_BZw-U-aBDCF"
      }
    },
    {
      "cell_type": "code",
      "source": [
        "\n",
        "import torch\n",
        "\n",
        "x = torch.tensor(2.0, requires_grad = True)\n",
        "\n",
        "print(\"x:\", x)\n",
        "\n",
        "y = x**2 + 2*x + 1\n",
        "print(\"y:\", y)\n",
        "\n",
        "y.backward()\n",
        "\n",
        "dx = x.grad\n",
        "print(\"x.grad :\", int(dx))"
      ],
      "metadata": {
        "colab": {
          "base_uri": "https://localhost:8080/"
        },
        "id": "oFL_unL6mjIg",
        "outputId": "be91e342-58a2-4865-9aba-195736918d39"
      },
      "execution_count": 6,
      "outputs": [
        {
          "output_type": "stream",
          "name": "stdout",
          "text": [
            "x: tensor(2., requires_grad=True)\n",
            "y: tensor(9., grad_fn=<AddBackward0>)\n",
            "x.grad : 6\n"
          ]
        }
      ]
    },
    {
      "cell_type": "code",
      "source": [
        "# importing libraries\n",
        "import torch\n",
        "from torch.autograd import Variable\n",
        "\n",
        "# packing the tensors with Variable\n",
        "x = Variable(torch.tensor(2.), requires_grad=True)\n",
        "\n",
        "print(\"x:\", x)\n",
        "\n",
        "y = x**2 + 2*x + 1\n",
        "\n",
        "print('Y value is:', y)\n",
        "\n",
        "y.backward()\n",
        "print(\"x.grad\",x.grad)"
      ],
      "metadata": {
        "colab": {
          "base_uri": "https://localhost:8080/"
        },
        "id": "H1aATeVW1j1B",
        "outputId": "06ec6795-0deb-47f5-9f65-66bd2fe6e434"
      },
      "execution_count": 13,
      "outputs": [
        {
          "output_type": "stream",
          "name": "stdout",
          "text": [
            "x: tensor(2., requires_grad=True)\n",
            "Y value is: tensor(9., grad_fn=<AddBackward0>)\n",
            "x.grad tensor(6.)\n"
          ]
        }
      ]
    },
    {
      "cell_type": "markdown",
      "source": [
        "For vector values:"
      ],
      "metadata": {
        "id": "9IR9FZR4DRD0"
      }
    },
    {
      "cell_type": "code",
      "source": [
        "import torch\n",
        "\n",
        "x = torch.tensor([2., 3.], requires_grad=True)\n",
        "y = x**2 + 2*x + 1\n",
        "external_grad = torch.tensor([1., 1.])\n",
        "y.backward(gradient=external_grad)\n",
        "print(x.grad)"
      ],
      "metadata": {
        "colab": {
          "base_uri": "https://localhost:8080/"
        },
        "id": "WWwj0WVlEFHi",
        "outputId": "c5448978-3818-44ac-b6bf-2897ad295596"
      },
      "execution_count": 25,
      "outputs": [
        {
          "output_type": "stream",
          "name": "stdout",
          "text": [
            "tensor([6., 8.])\n"
          ]
        }
      ]
    },
    {
      "cell_type": "markdown",
      "source": [
        "For tensor values:"
      ],
      "metadata": {
        "id": "G2-rGaO7IgDT"
      }
    },
    {
      "cell_type": "code",
      "source": [
        "import torch\n",
        "\n",
        "x = torch.tensor(([2., 3.],[1.,3.]), requires_grad=True)\n",
        "y = x**2 + 2*x + 1\n",
        "external_grad = torch.tensor(([1., 1.],[1.,1.]))\n",
        "y.backward(gradient=external_grad)\n",
        "print(x.grad)"
      ],
      "metadata": {
        "colab": {
          "base_uri": "https://localhost:8080/"
        },
        "id": "oQqBa8vyIIWi",
        "outputId": "6c70eb9c-5f2d-412a-85ac-b72e3e621e8e"
      },
      "execution_count": 27,
      "outputs": [
        {
          "output_type": "stream",
          "name": "stdout",
          "text": [
            "tensor([[6., 8.],\n",
            "        [4., 8.]])\n"
          ]
        }
      ]
    }
  ]
}